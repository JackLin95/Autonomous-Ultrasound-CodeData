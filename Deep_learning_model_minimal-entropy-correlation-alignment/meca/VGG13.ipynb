{
 "cells": [
  {
   "cell_type": "code",
   "execution_count": 1,
   "id": "responsible-brief",
   "metadata": {},
   "outputs": [],
   "source": [
    "import numpy as np\n",
    "import matplotlib.pyplot as plt\n",
    "import torch\n",
    "import torch.nn as nn\n",
    "import torch.nn.functional as F \n",
    "import torch.optim as optim\n",
    "import torchvision\n",
    "from torchvision import transforms, utils\n",
    "import time\n",
    "from sklearn.metrics import precision_recall_curve,precision_score,recall_score,accuracy_score"
   ]
  },
  {
   "cell_type": "code",
   "execution_count": 8,
   "id": "communist-integral",
   "metadata": {},
   "outputs": [],
   "source": [
    "class Cfg:\n",
    "    batch_size  = 16\n",
    "    learning_rate = 0.001\n",
    "    weight_decay = 0.001\n",
    "    max_epoch = 50\n",
    "    log_interval = 50\n",
    "    val_interval = 200\n",
    "cfg = Cfg()\n",
    "device = torch.device(\"cuda:0\" if torch.cuda.is_available() else \"cpu\")"
   ]
  },
  {
   "cell_type": "code",
   "execution_count": 3,
   "id": "assisted-contemporary",
   "metadata": {},
   "outputs": [],
   "source": [
    "DATA_PATH = \"ds/\"\n",
    "\n",
    "data_whole = torchvision.datasets.ImageFolder(DATA_PATH,\n",
    "                                                transform=transforms.Compose([\n",
    "                                                transforms.Resize((64,64)),\n",
    "                                                transforms.ToTensor()])\n",
    "                                            )"
   ]
  },
  {
   "cell_type": "code",
   "execution_count": 4,
   "id": "gross-court",
   "metadata": {},
   "outputs": [
    {
     "name": "stdout",
     "output_type": "stream",
     "text": [
      "1913 1913\n"
     ]
    }
   ],
   "source": [
    "train_set_size = int(len(data_whole) * 0.5)\n",
    "utility_set_size = len(data_whole) - train_set_size\n",
    "\n",
    "print(train_set_size,utility_set_size)"
   ]
  },
  {
   "cell_type": "code",
   "execution_count": 5,
   "id": "environmental-alpha",
   "metadata": {},
   "outputs": [],
   "source": [
    "data_train, data_val = torch.utils.data.random_split(data_whole, \n",
    "                                                                   [train_set_size, utility_set_size], \n",
    "                                                                   generator=torch.Generator().manual_seed(42))\n",
    "data_loader_tr = torch.utils.data.DataLoader(data_train, batch_size=cfg.batch_size, shuffle=True)\n",
    "data_loader_va = torch.utils.data.DataLoader(data_val, batch_size=32, shuffle=True,drop_last=False)"
   ]
  },
  {
   "cell_type": "code",
   "execution_count": 6,
   "id": "round-edward",
   "metadata": {},
   "outputs": [
    {
     "data": {
      "text/plain": [
       "1913"
      ]
     },
     "execution_count": 6,
     "metadata": {},
     "output_type": "execute_result"
    }
   ],
   "source": [
    "len(data_train)\n",
    "len(data_val)"
   ]
  },
  {
   "cell_type": "code",
   "execution_count": 12,
   "id": "impossible-algeria",
   "metadata": {},
   "outputs": [],
   "source": [
    "model = torchvision.models.vgg13_bn(num_classes=2).to(device)"
   ]
  },
  {
   "cell_type": "code",
   "execution_count": 13,
   "id": "hundred-hierarchy",
   "metadata": {},
   "outputs": [],
   "source": [
    "optimizer = optim.Adam(model.parameters(), lr=cfg.learning_rate,weight_decay=cfg.weight_decay)\n",
    "criterion = nn.BCEWithLogitsLoss()\n",
    "val_acc = []\n",
    "train_acc = []\n",
    "train_loss = []"
   ]
  },
  {
   "cell_type": "code",
   "execution_count": null,
   "id": "physical-syndrome",
   "metadata": {
    "scrolled": false
   },
   "outputs": [
    {
     "name": "stdout",
     "output_type": "stream",
     "text": [
      "Train Epoch: 0 [0/1913 (0%)]\tLoss: 0.753356, Acc = 0.5\n",
      "Train Epoch: 0 [800/1913 (42%)]\tLoss: 0.262202, Acc = 0.6899509803921569\n",
      "Train Epoch: 0 [1600/1913 (83%)]\tLoss: 0.062079, Acc = 0.8106435643564357\n",
      "Validating...\n"
     ]
    }
   ],
   "source": [
    "for epoch in range(cfg.max_epoch + 1):\n",
    "    acc_num = 0\n",
    "    for batch_idx, (data, target) in enumerate(data_loader_tr):\n",
    "        data, target = data.to(device), target.to(device)\n",
    "        optimizer.zero_grad()\n",
    "        output = model(data)\n",
    "        loss = criterion(output, torch.nn.functional.one_hot(target,num_classes=2).float())\n",
    "        loss.backward()\n",
    "        optimizer.step()\n",
    "        acc_num += (target == torch.argmax(output,axis=1)+0).sum().item()\n",
    "        \n",
    "        if batch_idx % cfg.log_interval == 0:\n",
    "            print('Train Epoch: {} [{}/{} ({:.0f}%)]\\tLoss: {:.6f}, Acc = {}'.format(\n",
    "                epoch, batch_idx * len(data), len(data_loader_tr.dataset),\n",
    "                100. * batch_idx / len(data_loader_tr), loss.item(),acc_num/((batch_idx+1) * cfg.batch_size)))\n",
    "        train_acc.append(acc_num/((batch_idx+1) * cfg.batch_size))\n",
    "        train_loss.append(loss.item())\n",
    "    if (epoch) % 5 == 0:\n",
    "        print(\"Validating...\")\n",
    "        model.eval()\n",
    "        all_out = np.empty(shape=(0,))\n",
    "        all_label = np.empty(shape=(0,))\n",
    "        with torch.no_grad():\n",
    "            for batch_idx, (data, target) in enumerate(data_loader_va):\n",
    "                data, target = data.to(device), target.to(device)\n",
    "                optimizer.zero_grad()\n",
    "                output = model(data)\n",
    "                all_out = np.concatenate((all_out,torch.argmax(output,axis=1).cpu().numpy()))\n",
    "                all_label = np.concatenate((all_label,target.cpu().numpy()))\n",
    "\n",
    "        precision, recall, acc = precision_score(all_label,all_out,average='macro'),recall_score(all_label,all_out,average='macro'),accuracy_score(all_label,all_out)\n",
    "        print(\"P:\",precision,\"R:\",recall)\n",
    "        print(acc)\n",
    "        if (acc > 0.98):\n",
    "            break\n",
    "        val_acc.append(acc)\n",
    "        model.train()\n",
    "    if (acc > 0.98):\n",
    "        break"
   ]
  },
  {
   "cell_type": "code",
   "execution_count": null,
   "id": "arbitrary-fishing",
   "metadata": {},
   "outputs": [],
   "source": []
  }
 ],
 "metadata": {
  "kernelspec": {
   "display_name": "Python 3",
   "language": "python",
   "name": "python3"
  },
  "language_info": {
   "codemirror_mode": {
    "name": "ipython",
    "version": 3
   },
   "file_extension": ".py",
   "mimetype": "text/x-python",
   "name": "python",
   "nbconvert_exporter": "python",
   "pygments_lexer": "ipython3",
   "version": "3.7.3"
  }
 },
 "nbformat": 4,
 "nbformat_minor": 5
}
